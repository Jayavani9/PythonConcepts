{
  "nbformat": 4,
  "nbformat_minor": 0,
  "metadata": {
    "colab": {
      "provenance": []
    },
    "kernelspec": {
      "name": "python3",
      "display_name": "Python 3"
    },
    "language_info": {
      "name": "python"
    }
  },
  "cells": [
    {
      "cell_type": "markdown",
      "source": [
        "**PYTHON IMPORTANT CONCEPTS**"
      ],
      "metadata": {
        "id": "PaVoNdQcQXWv"
      }
    },
    {
      "cell_type": "markdown",
      "source": [
        "Variables"
      ],
      "metadata": {
        "id": "48V-xciYQhok"
      }
    },
    {
      "cell_type": "code",
      "source": [
        "#Variables are dynamically typed (No need to mention the type during the program.\n",
        "#The type is assigned during the run time based on the value\n",
        "\n",
        "n = 2 # int\n",
        "\n",
        "n = 'Jaya' #str\n",
        "\n",
        "n = True #bool\n",
        "\n",
        "n = 3.0 #float\n",
        "\n",
        "n = [1,2,3] #list\n",
        "\n",
        "n = 2.0 + 3.0j  #complex\n",
        "print(n)\n"
      ],
      "metadata": {
        "colab": {
          "base_uri": "https://localhost:8080/"
        },
        "id": "0lw39eOLPfaS",
        "outputId": "6e7c60b5-708d-4d8c-c145-753ec782f5e6"
      },
      "execution_count": null,
      "outputs": [
        {
          "output_type": "stream",
          "name": "stdout",
          "text": [
            "(2+3j)\n"
          ]
        }
      ]
    },
    {
      "cell_type": "code",
      "source": [
        "#Multiple assignments is possible in Python\n",
        "\n",
        "a, b, c = 0, 'xyz', True\n",
        "print(a,b,c)"
      ],
      "metadata": {
        "colab": {
          "base_uri": "https://localhost:8080/"
        },
        "id": "BCPk4MVyQJUW",
        "outputId": "e948582b-e690-480b-9027-e34e87aced43"
      },
      "execution_count": null,
      "outputs": [
        {
          "output_type": "stream",
          "name": "stdout",
          "text": [
            "0 xyz True\n"
          ]
        }
      ]
    },
    {
      "cell_type": "markdown",
      "source": [
        "Assignment Operator"
      ],
      "metadata": {
        "id": "zMr8-oFcUP1A"
      }
    },
    {
      "cell_type": "code",
      "source": [
        "n = 0\n",
        "n = n + 1  # To increment n by some number\n",
        "n += 1  # To increment n by number\n",
        "#n++  This increment operator is not available in Python\n",
        "print(n)"
      ],
      "metadata": {
        "colab": {
          "base_uri": "https://localhost:8080/"
        },
        "id": "9VthiMOSUbtb",
        "outputId": "2e8c69fd-98a6-4280-f6d8-fce4f6c60641"
      },
      "execution_count": null,
      "outputs": [
        {
          "output_type": "stream",
          "name": "stdout",
          "text": [
            "2\n"
          ]
        }
      ]
    },
    {
      "cell_type": "markdown",
      "source": [
        "Null\n"
      ],
      "metadata": {
        "id": "glP9Icp3WIbn"
      }
    },
    {
      "cell_type": "code",
      "source": [
        "#None is known to be null operator in Python\n",
        "n = 4\n",
        "n = None\n",
        "print(n)"
      ],
      "metadata": {
        "colab": {
          "base_uri": "https://localhost:8080/"
        },
        "id": "1wXZBvBFVOHh",
        "outputId": "7cc1d48b-6a7c-4d61-d98e-bf1a3f3257fb"
      },
      "execution_count": null,
      "outputs": [
        {
          "output_type": "stream",
          "name": "stdout",
          "text": [
            "None\n"
          ]
        }
      ]
    },
    {
      "cell_type": "markdown",
      "source": [
        "If Statement"
      ],
      "metadata": {
        "id": "h2mLbfJKY6Zi"
      }
    },
    {
      "cell_type": "code",
      "source": [
        "#If statement don't need parantheses or curly braces in Python\n",
        "#Just the indentation does the enough work\n",
        "#Parantheses are not needed for the condition\n",
        "\n",
        "n = 5\n",
        "if n > 2:\n",
        "  n -= 3\n",
        "print(n)"
      ],
      "metadata": {
        "colab": {
          "base_uri": "https://localhost:8080/"
        },
        "id": "g_ZPU5LQWRkQ",
        "outputId": "a62e5386-4f30-4965-fd5d-c1804c380747"
      },
      "execution_count": null,
      "outputs": [
        {
          "output_type": "stream",
          "name": "stdout",
          "text": [
            "2\n"
          ]
        }
      ]
    },
    {
      "cell_type": "markdown",
      "source": [
        "Multi Line Conditions"
      ],
      "metadata": {
        "id": "J-33jDVIb8Oo"
      }
    },
    {
      "cell_type": "code",
      "source": [
        "#Multi line conditions require parantheses\n",
        "\n",
        "n = 12\n",
        "\n",
        "if ((n > 10\n",
        "    and n < 13) or n == 12):\n",
        "  print(\"the value of n is:\",n)\n",
        "\n",
        "else:\n",
        "  print(\"Unknown\")\n",
        "\n",
        "\n"
      ],
      "metadata": {
        "colab": {
          "base_uri": "https://localhost:8080/"
        },
        "id": "of7PJq3qba8L",
        "outputId": "de065393-b4d0-4189-f8ac-31352070d257"
      },
      "execution_count": null,
      "outputs": [
        {
          "output_type": "stream",
          "name": "stdout",
          "text": [
            "the value of n is: 12\n"
          ]
        }
      ]
    },
    {
      "cell_type": "markdown",
      "source": [
        "While Loops"
      ],
      "metadata": {
        "id": "s8ecFNgVc7Ba"
      }
    },
    {
      "cell_type": "code",
      "source": [
        "z = 4\n",
        "while z < 10:\n",
        "  print(z)\n",
        "  z += 1\n"
      ],
      "metadata": {
        "colab": {
          "base_uri": "https://localhost:8080/"
        },
        "id": "eIJm8ayJcc2Z",
        "outputId": "980797f2-98c0-4593-f0e4-a44a3bf28018"
      },
      "execution_count": null,
      "outputs": [
        {
          "output_type": "stream",
          "name": "stdout",
          "text": [
            "4\n",
            "5\n",
            "6\n",
            "7\n",
            "8\n",
            "9\n"
          ]
        }
      ]
    },
    {
      "cell_type": "markdown",
      "source": [
        "For Loops"
      ],
      "metadata": {
        "id": "H94ePH10dUGk"
      }
    },
    {
      "cell_type": "code",
      "source": [
        "for i in range(5):\n",
        "  print(i)"
      ],
      "metadata": {
        "colab": {
          "base_uri": "https://localhost:8080/"
        },
        "id": "_P56nNqWdSVl",
        "outputId": "10c24ff7-51c2-4686-b295-300207dc591c"
      },
      "execution_count": null,
      "outputs": [
        {
          "output_type": "stream",
          "name": "stdout",
          "text": [
            "0\n",
            "1\n",
            "2\n",
            "3\n",
            "4\n"
          ]
        }
      ]
    },
    {
      "cell_type": "code",
      "source": [
        "for i in range(2,6):  #range(start,end)\n",
        "  print(i)"
      ],
      "metadata": {
        "colab": {
          "base_uri": "https://localhost:8080/"
        },
        "id": "ZZ08FzcddYns",
        "outputId": "db424b4b-60e5-4b73-89a4-122cb484fbb0"
      },
      "execution_count": null,
      "outputs": [
        {
          "output_type": "stream",
          "name": "stdout",
          "text": [
            "2\n",
            "3\n",
            "4\n",
            "5\n"
          ]
        }
      ]
    },
    {
      "cell_type": "code",
      "source": [
        "for i in range(2,9,2): #range(start,end,step)\n",
        "  print(i)"
      ],
      "metadata": {
        "colab": {
          "base_uri": "https://localhost:8080/"
        },
        "id": "3Qa_E9Fthjjx",
        "outputId": "ab4c4913-b222-4e72-ad56-86f06c21c5d8"
      },
      "execution_count": null,
      "outputs": [
        {
          "output_type": "stream",
          "name": "stdout",
          "text": [
            "2\n",
            "4\n",
            "6\n",
            "8\n"
          ]
        }
      ]
    },
    {
      "cell_type": "code",
      "source": [
        "for i in range(2,-8,-1):\n",
        "  print(i)"
      ],
      "metadata": {
        "colab": {
          "base_uri": "https://localhost:8080/"
        },
        "id": "TPmfjU6siBmb",
        "outputId": "f51f5da4-6d00-4bee-a689-c0949deee3ce"
      },
      "execution_count": null,
      "outputs": [
        {
          "output_type": "stream",
          "name": "stdout",
          "text": [
            "2\n",
            "1\n",
            "0\n",
            "-1\n",
            "-2\n",
            "-3\n",
            "-4\n",
            "-5\n",
            "-6\n",
            "-7\n"
          ]
        }
      ]
    },
    {
      "cell_type": "code",
      "source": [
        "for i in range(9,3,-2):\n",
        "  print(i)"
      ],
      "metadata": {
        "colab": {
          "base_uri": "https://localhost:8080/"
        },
        "id": "EpNfMO3riLd8",
        "outputId": "2b95d923-9589-4f5e-cb0a-e52a2cf9fd24"
      },
      "execution_count": null,
      "outputs": [
        {
          "output_type": "stream",
          "name": "stdout",
          "text": [
            "9\n",
            "7\n",
            "5\n"
          ]
        }
      ]
    },
    {
      "cell_type": "markdown",
      "source": [
        "Division in Python"
      ],
      "metadata": {
        "id": "o9c0swqMiW3B"
      }
    },
    {
      "cell_type": "code",
      "source": [
        "#Division in Python is by default decimal not integer(imp to remember)\n",
        "\n",
        "print(4/2) #Outputs 2.0 and not 2"
      ],
      "metadata": {
        "colab": {
          "base_uri": "https://localhost:8080/"
        },
        "id": "gav2GxyGiP74",
        "outputId": "f4e54302-1de9-4b0e-b1f5-76d265c0e362"
      },
      "execution_count": null,
      "outputs": [
        {
          "output_type": "stream",
          "name": "stdout",
          "text": [
            "2.0\n"
          ]
        }
      ]
    },
    {
      "cell_type": "code",
      "source": [
        "# You can convert the result if needed into an Integer by:\n",
        "print(int(4/2))"
      ],
      "metadata": {
        "colab": {
          "base_uri": "https://localhost:8080/"
        },
        "id": "8z93bC42ijI0",
        "outputId": "d26c6190-f4da-4bd2-cc76-bbffba8e5c80"
      },
      "execution_count": null,
      "outputs": [
        {
          "output_type": "stream",
          "name": "stdout",
          "text": [
            "2\n"
          ]
        }
      ]
    },
    {
      "cell_type": "markdown",
      "source": [
        "Integer Division"
      ],
      "metadata": {
        "id": "WAdfApdUmoqK"
      }
    },
    {
      "cell_type": "markdown",
      "source": [
        "Integer Division rounds the output as shown below:"
      ],
      "metadata": {
        "id": "Vh42kJVZmujt"
      }
    },
    {
      "cell_type": "code",
      "source": [
        "print(5//2)"
      ],
      "metadata": {
        "colab": {
          "base_uri": "https://localhost:8080/"
        },
        "id": "TX-c0yd3inMK",
        "outputId": "4dd6a371-1c50-49f6-a31a-d6c4154f63c3"
      },
      "execution_count": null,
      "outputs": [
        {
          "output_type": "stream",
          "name": "stdout",
          "text": [
            "2\n"
          ]
        }
      ]
    },
    {
      "cell_type": "code",
      "source": [
        "print(5/2)"
      ],
      "metadata": {
        "colab": {
          "base_uri": "https://localhost:8080/"
        },
        "id": "XkAUtfKwmsIP",
        "outputId": "b1ecdf48-eeba-4387-a365-1711104182b6"
      },
      "execution_count": null,
      "outputs": [
        {
          "output_type": "stream",
          "name": "stdout",
          "text": [
            "2.5\n"
          ]
        }
      ]
    },
    {
      "cell_type": "code",
      "source": [
        "print(-3//2)"
      ],
      "metadata": {
        "colab": {
          "base_uri": "https://localhost:8080/"
        },
        "id": "CrrC4GobnQyF",
        "outputId": "2988659d-7c24-455a-d73a-2bf97c0e14bd"
      },
      "execution_count": null,
      "outputs": [
        {
          "output_type": "stream",
          "name": "stdout",
          "text": [
            "-2\n"
          ]
        }
      ]
    },
    {
      "cell_type": "code",
      "source": [
        "print(int(-3/2))"
      ],
      "metadata": {
        "colab": {
          "base_uri": "https://localhost:8080/"
        },
        "id": "l4GC6xgUm32w",
        "outputId": "7e8ee196-70f2-4676-b50b-e1397dc4737d"
      },
      "execution_count": null,
      "outputs": [
        {
          "output_type": "stream",
          "name": "stdout",
          "text": [
            "-1\n"
          ]
        }
      ]
    },
    {
      "cell_type": "markdown",
      "source": [
        "Modulo function"
      ],
      "metadata": {
        "id": "_9vLnknSna_P"
      }
    },
    {
      "cell_type": "code",
      "source": [
        "print(5%2)"
      ],
      "metadata": {
        "colab": {
          "base_uri": "https://localhost:8080/"
        },
        "id": "kheFx9CGncgn",
        "outputId": "95d2cd21-51a5-427f-932b-0df455f42b1f"
      },
      "execution_count": null,
      "outputs": [
        {
          "output_type": "stream",
          "name": "stdout",
          "text": [
            "1\n"
          ]
        }
      ]
    },
    {
      "cell_type": "markdown",
      "source": [
        "Modulo with negative numers is different in Python"
      ],
      "metadata": {
        "id": "J24Ry3hro1Ma"
      }
    },
    {
      "cell_type": "code",
      "source": [
        "print(-10%3)"
      ],
      "metadata": {
        "colab": {
          "base_uri": "https://localhost:8080/"
        },
        "id": "F_9kbTWGn-_H",
        "outputId": "8401bf5f-65ca-4f98-b859-8a63efaca3e8"
      },
      "execution_count": null,
      "outputs": [
        {
          "output_type": "stream",
          "name": "stdout",
          "text": [
            "2\n"
          ]
        }
      ]
    },
    {
      "cell_type": "markdown",
      "source": [
        "We can use math library function to resolve this:"
      ],
      "metadata": {
        "id": "HIrsPD6po4cf"
      }
    },
    {
      "cell_type": "code",
      "source": [
        "import math\n",
        "print(math.fmod(-10,3))"
      ],
      "metadata": {
        "colab": {
          "base_uri": "https://localhost:8080/"
        },
        "id": "X8nCq8J4o0RF",
        "outputId": "e1861729-d7d9-4f57-fcaa-aa7431a9c47b"
      },
      "execution_count": null,
      "outputs": [
        {
          "output_type": "stream",
          "name": "stdout",
          "text": [
            "-1.0\n"
          ]
        }
      ]
    },
    {
      "cell_type": "markdown",
      "source": [
        "floor"
      ],
      "metadata": {
        "id": "l-G2r5XCrtZW"
      }
    },
    {
      "cell_type": "code",
      "source": [
        "print(math.floor(3/2))"
      ],
      "metadata": {
        "colab": {
          "base_uri": "https://localhost:8080/"
        },
        "id": "Jjdy4NOEpAHX",
        "outputId": "8d93e1d0-1ce9-4dd8-e4a9-096e8bd42bad"
      },
      "execution_count": null,
      "outputs": [
        {
          "output_type": "stream",
          "name": "stdout",
          "text": [
            "1\n"
          ]
        }
      ]
    },
    {
      "cell_type": "markdown",
      "source": [
        "ceil"
      ],
      "metadata": {
        "id": "TnVTBcSSsCV9"
      }
    },
    {
      "cell_type": "code",
      "source": [
        "print(math.ceil(3/2))"
      ],
      "metadata": {
        "colab": {
          "base_uri": "https://localhost:8080/"
        },
        "id": "riAimqcTrwyh",
        "outputId": "d13bea45-5909-4da9-c954-5a6bf7ff3c50"
      },
      "execution_count": null,
      "outputs": [
        {
          "output_type": "stream",
          "name": "stdout",
          "text": [
            "2\n"
          ]
        }
      ]
    },
    {
      "cell_type": "markdown",
      "source": [
        "sqrt"
      ],
      "metadata": {
        "id": "_JRxOj23sEFY"
      }
    },
    {
      "cell_type": "code",
      "source": [
        "print(math.sqrt(2))"
      ],
      "metadata": {
        "colab": {
          "base_uri": "https://localhost:8080/"
        },
        "id": "TF1KwjeasE1R",
        "outputId": "342ffea2-277e-47ca-fd33-2ebdd22d8431"
      },
      "execution_count": null,
      "outputs": [
        {
          "output_type": "stream",
          "name": "stdout",
          "text": [
            "1.4142135623730951\n"
          ]
        }
      ]
    },
    {
      "cell_type": "markdown",
      "source": [
        "Power"
      ],
      "metadata": {
        "id": "ECM8VnUqsQFY"
      }
    },
    {
      "cell_type": "code",
      "source": [
        "print(math.pow(2,3))"
      ],
      "metadata": {
        "colab": {
          "base_uri": "https://localhost:8080/"
        },
        "id": "L_O4xwXssNcm",
        "outputId": "ca3a3741-18f9-4a79-d20d-bccd2ce1906d"
      },
      "execution_count": null,
      "outputs": [
        {
          "output_type": "stream",
          "name": "stdout",
          "text": [
            "8.0\n"
          ]
        }
      ]
    },
    {
      "cell_type": "markdown",
      "source": [
        "Positive Infinity"
      ],
      "metadata": {
        "id": "883YQitIsUSY"
      }
    },
    {
      "cell_type": "code",
      "source": [
        "a = float('inf')\n",
        "print(a)"
      ],
      "metadata": {
        "colab": {
          "base_uri": "https://localhost:8080/"
        },
        "id": "OxWfPhyvsVuk",
        "outputId": "6101d15a-bfc3-42f3-cd84-2e9f16e07a0c"
      },
      "execution_count": null,
      "outputs": [
        {
          "output_type": "stream",
          "name": "stdout",
          "text": [
            "inf\n"
          ]
        }
      ]
    },
    {
      "cell_type": "markdown",
      "source": [
        "Negative Infinity"
      ],
      "metadata": {
        "id": "o5iyRekOspN_"
      }
    },
    {
      "cell_type": "code",
      "source": [
        "b = float('-inf')\n",
        "print(b)"
      ],
      "metadata": {
        "colab": {
          "base_uri": "https://localhost:8080/"
        },
        "id": "wC_U8qHasqSa",
        "outputId": "2f794db9-fe4b-4c28-daf7-fc5e4e0368c5"
      },
      "execution_count": null,
      "outputs": [
        {
          "output_type": "stream",
          "name": "stdout",
          "text": [
            "-inf\n"
          ]
        }
      ]
    },
    {
      "cell_type": "code",
      "source": [
        "print(math.pow(2,200) < float('inf'))"
      ],
      "metadata": {
        "colab": {
          "base_uri": "https://localhost:8080/"
        },
        "id": "KwsXvFgqtsZO",
        "outputId": "2ad3eb0c-7726-4c6d-a48a-f95130edd0e4"
      },
      "execution_count": null,
      "outputs": [
        {
          "output_type": "stream",
          "name": "stdout",
          "text": [
            "True\n"
          ]
        }
      ]
    },
    {
      "cell_type": "markdown",
      "source": [
        "Arrays(Lists) in Python"
      ],
      "metadata": {
        "id": "A41R1zU2vIqy"
      }
    },
    {
      "cell_type": "code",
      "source": [
        "arr = [1,2,3]\n",
        "print(arr)"
      ],
      "metadata": {
        "colab": {
          "base_uri": "https://localhost:8080/"
        },
        "id": "BaS70T6JvKPy",
        "outputId": "8ec556ae-d7f7-4bb3-e8ea-c36c397332f8"
      },
      "execution_count": null,
      "outputs": [
        {
          "output_type": "stream",
          "name": "stdout",
          "text": [
            "[1, 2, 3]\n"
          ]
        }
      ]
    },
    {
      "cell_type": "markdown",
      "source": [
        "Arrays as Stack"
      ],
      "metadata": {
        "id": "ED2GJGgTvfeF"
      }
    },
    {
      "cell_type": "markdown",
      "source": [
        "Appending elements to the stack:\n",
        "Use append() method"
      ],
      "metadata": {
        "id": "nuMRpnNIvtEs"
      }
    },
    {
      "cell_type": "code",
      "source": [
        "#Arrays can also be used as a stack in Python\n",
        "lis = []\n",
        "lis.append(4)\n",
        "lis.append(9)\n",
        "lis.append(6)\n",
        "print(lis)"
      ],
      "metadata": {
        "colab": {
          "base_uri": "https://localhost:8080/"
        },
        "id": "OQ5b3B66vMco",
        "outputId": "64e42462-3b99-4a11-f7e0-3e64ccfa1b7b"
      },
      "execution_count": null,
      "outputs": [
        {
          "output_type": "stream",
          "name": "stdout",
          "text": [
            "[4, 9, 6]\n"
          ]
        }
      ]
    },
    {
      "cell_type": "markdown",
      "source": [
        "Remove an element from the stack\n",
        "Stack follows LIFO methodology\n",
        "The element which gets into the stack in the end gets ejected out first\n",
        "Use pop() method for removing an element from the stack"
      ],
      "metadata": {
        "id": "fnFebNDKv4wX"
      }
    },
    {
      "cell_type": "code",
      "source": [
        "lis.pop() #LIFO"
      ],
      "metadata": {
        "colab": {
          "base_uri": "https://localhost:8080/"
        },
        "id": "y5viGVFnvVO7",
        "outputId": "c0ce5e0e-193b-48b6-c519-c50b3d9f8fb3"
      },
      "execution_count": null,
      "outputs": [
        {
          "output_type": "execute_result",
          "data": {
            "text/plain": [
              "6"
            ]
          },
          "metadata": {},
          "execution_count": 92
        }
      ]
    },
    {
      "cell_type": "markdown",
      "source": [
        "Insert an element at a specific index:\n",
        "Use insert() method"
      ],
      "metadata": {
        "id": "SUAtcXyWwMOc"
      }
    },
    {
      "cell_type": "code",
      "source": [
        "lis.insert(2,3)\n",
        "print(lis)"
      ],
      "metadata": {
        "colab": {
          "base_uri": "https://localhost:8080/"
        },
        "id": "i7WKH11gvX5c",
        "outputId": "7ebd061f-d7e8-4c1e-dd39-b70fb632d93a"
      },
      "execution_count": null,
      "outputs": [
        {
          "output_type": "stream",
          "name": "stdout",
          "text": [
            "[4, 9, 3, 3, 6]\n"
          ]
        }
      ]
    },
    {
      "cell_type": "markdown",
      "source": [
        "To insert an element at specific index, usually it is O(n) operation.\n",
        "in Python, we can do it in O(1)."
      ],
      "metadata": {
        "id": "RbWh_0Yfxe8k"
      }
    },
    {
      "cell_type": "code",
      "source": [
        "lis[2] = 6\n",
        "print(lis)"
      ],
      "metadata": {
        "colab": {
          "base_uri": "https://localhost:8080/"
        },
        "id": "Y0Hqh0edwWGP",
        "outputId": "5b81c4bf-9619-462d-c714-3785c19d4e05"
      },
      "execution_count": null,
      "outputs": [
        {
          "output_type": "stream",
          "name": "stdout",
          "text": [
            "[4, 9, 6, 3, 6]\n"
          ]
        }
      ]
    },
    {
      "cell_type": "markdown",
      "source": [
        "Initialize an array of size n with default value 'k':"
      ],
      "metadata": {
        "id": "Q004XIXhxv3q"
      }
    },
    {
      "cell_type": "code",
      "source": [
        "n = 9\n",
        "arr = [1] * n\n",
        "print(arr)\n",
        "print(len(arr))"
      ],
      "metadata": {
        "colab": {
          "base_uri": "https://localhost:8080/"
        },
        "id": "QlyUDOaZxrZt",
        "outputId": "82f38d96-bd94-40b9-f36f-081e8490eceb"
      },
      "execution_count": null,
      "outputs": [
        {
          "output_type": "stream",
          "name": "stdout",
          "text": [
            "[1, 1, 1, 1, 1, 1, 1, 1, 1]\n",
            "9\n"
          ]
        }
      ]
    },
    {
      "cell_type": "markdown",
      "source": [
        "We can also use a for loop for the same"
      ],
      "metadata": {
        "id": "TGaIolPUzpzq"
      }
    },
    {
      "cell_type": "code",
      "source": [
        "arr = []\n",
        "for i in range(9):\n",
        "  arr.append(1)\n",
        "print(arr)"
      ],
      "metadata": {
        "colab": {
          "base_uri": "https://localhost:8080/"
        },
        "id": "bUoC2D-Kx963",
        "outputId": "82bf1aae-644e-4488-ed91-d7603c4455e2"
      },
      "execution_count": null,
      "outputs": [
        {
          "output_type": "stream",
          "name": "stdout",
          "text": [
            "[1, 1, 1, 1, 1, 1, 1, 1, 1]\n"
          ]
        }
      ]
    },
    {
      "cell_type": "markdown",
      "source": [
        "Negative Indexing of an Array"
      ],
      "metadata": {
        "id": "KwkBsqS00BCo"
      }
    },
    {
      "cell_type": "code",
      "source": [
        "test = [1,2,4]\n",
        "print(test[-1]) #Prints the last element\n",
        "print(test[-3]) #Prints the first element in this case\n",
        "#print(test[-5]) #List Index out of range"
      ],
      "metadata": {
        "colab": {
          "base_uri": "https://localhost:8080/"
        },
        "id": "tNOfHiiaz8va",
        "outputId": "80b3654b-8435-41f3-ee7d-e8e62af63ba1"
      },
      "execution_count": null,
      "outputs": [
        {
          "output_type": "stream",
          "name": "stdout",
          "text": [
            "4\n",
            "1\n"
          ]
        }
      ]
    },
    {
      "cell_type": "markdown",
      "source": [
        "Slicing an Array"
      ],
      "metadata": {
        "id": "L0_rWLS60W0s"
      }
    },
    {
      "cell_type": "code",
      "source": [
        "test = [1,2,4]\n",
        "print(test[2:])\n",
        "print(test[1:2])\n",
        "print(test[:2])"
      ],
      "metadata": {
        "colab": {
          "base_uri": "https://localhost:8080/"
        },
        "id": "wnR34GVu0aUY",
        "outputId": "7b8da0af-ece7-43f9-adcb-f9bae7417c22"
      },
      "execution_count": null,
      "outputs": [
        {
          "output_type": "stream",
          "name": "stdout",
          "text": [
            "[4]\n",
            "[2]\n",
            "[1, 2]\n"
          ]
        }
      ]
    },
    {
      "cell_type": "markdown",
      "source": [
        "Looping through Arrays:"
      ],
      "metadata": {
        "id": "U8ZG2Lnk07Pa"
      }
    },
    {
      "cell_type": "markdown",
      "source": [
        "Using Index"
      ],
      "metadata": {
        "id": "Zf8lJ0u31FXT"
      }
    },
    {
      "cell_type": "code",
      "source": [
        "nums = [1,2,5]\n",
        "\n",
        "for i in range(len(nums)):\n",
        "  print(nums[i])"
      ],
      "metadata": {
        "colab": {
          "base_uri": "https://localhost:8080/"
        },
        "id": "axEt2ZWn0bVX",
        "outputId": "954d9516-abc1-44e9-acb1-35dcaa39f041"
      },
      "execution_count": null,
      "outputs": [
        {
          "output_type": "stream",
          "name": "stdout",
          "text": [
            "1\n",
            "2\n",
            "5\n"
          ]
        }
      ]
    },
    {
      "cell_type": "markdown",
      "source": [
        "Without using Index"
      ],
      "metadata": {
        "id": "-4GRRarE1KeK"
      }
    },
    {
      "cell_type": "code",
      "source": [
        "for i in nums:\n",
        "  print(i)"
      ],
      "metadata": {
        "colab": {
          "base_uri": "https://localhost:8080/"
        },
        "id": "YXnjtaoj1DlS",
        "outputId": "79eca7ee-6a21-4bcc-b3a6-be0550e574e4"
      },
      "execution_count": null,
      "outputs": [
        {
          "output_type": "stream",
          "name": "stdout",
          "text": [
            "1\n",
            "2\n",
            "5\n"
          ]
        }
      ]
    },
    {
      "cell_type": "markdown",
      "source": [
        "To print both the index and the value"
      ],
      "metadata": {
        "id": "n0OKNNtl2DZW"
      }
    },
    {
      "cell_type": "code",
      "source": [
        "for i in range(len(nums)):\n",
        "  print(i, nums[i])"
      ],
      "metadata": {
        "colab": {
          "base_uri": "https://localhost:8080/"
        },
        "id": "yPX3ow2t1-Gl",
        "outputId": "e2b33998-0cec-45b2-b69f-0d0658151ae9"
      },
      "execution_count": null,
      "outputs": [
        {
          "output_type": "stream",
          "name": "stdout",
          "text": [
            "0 1\n",
            "1 2\n",
            "2 5\n"
          ]
        }
      ]
    },
    {
      "cell_type": "markdown",
      "source": [
        "To do the same we can also use enumeration:"
      ],
      "metadata": {
        "id": "80UQTHsx2Qs-"
      }
    },
    {
      "cell_type": "code",
      "source": [
        "for i,n in enumerate(nums):\n",
        "  print(i,n)"
      ],
      "metadata": {
        "colab": {
          "base_uri": "https://localhost:8080/"
        },
        "id": "4hu_N3Xy2Las",
        "outputId": "a9e1e869-d4c1-4243-d266-e96742166fdf"
      },
      "execution_count": null,
      "outputs": [
        {
          "output_type": "stream",
          "name": "stdout",
          "text": [
            "0 1\n",
            "1 2\n",
            "2 5\n"
          ]
        }
      ]
    },
    {
      "cell_type": "markdown",
      "source": [
        "Loop through multiple arrays simultaneously"
      ],
      "metadata": {
        "id": "1oj5NfOX2YXG"
      }
    },
    {
      "cell_type": "markdown",
      "source": [
        "Use zip() method"
      ],
      "metadata": {
        "id": "ID1qqzse2wSU"
      }
    },
    {
      "cell_type": "code",
      "source": [
        "nums1 = [1,2,4]\n",
        "nums2 = [4,5,9]\n",
        "\n",
        "for i, j in zip(nums1, nums2):\n",
        "    print(i, j)"
      ],
      "metadata": {
        "colab": {
          "base_uri": "https://localhost:8080/"
        },
        "id": "hK6oTliA2Tos",
        "outputId": "da02c5e3-546c-4b79-f1dc-863428eb0b4b"
      },
      "execution_count": null,
      "outputs": [
        {
          "output_type": "stream",
          "name": "stdout",
          "text": [
            "1 4\n",
            "2 5\n",
            "4 9\n"
          ]
        }
      ]
    },
    {
      "cell_type": "markdown",
      "source": [
        "Reverse an Array"
      ],
      "metadata": {
        "id": "cYqWnA0C2111"
      }
    },
    {
      "cell_type": "markdown",
      "source": [
        "Use reverse() method"
      ],
      "metadata": {
        "id": "KG6RjpJd2-ys"
      }
    },
    {
      "cell_type": "code",
      "source": [
        "n1 = [1,2,3]\n",
        "n1.reverse()\n",
        "print(n1)"
      ],
      "metadata": {
        "colab": {
          "base_uri": "https://localhost:8080/"
        },
        "id": "n6omA_8o2yc5",
        "outputId": "6fb8b911-baaf-4d47-f760-34eb68f07347"
      },
      "execution_count": null,
      "outputs": [
        {
          "output_type": "stream",
          "name": "stdout",
          "text": [
            "[3, 2, 1]\n"
          ]
        }
      ]
    },
    {
      "cell_type": "markdown",
      "source": [
        "Sorting an Array"
      ],
      "metadata": {
        "id": "w1EjxJig3Bt6"
      }
    },
    {
      "cell_type": "markdown",
      "source": [
        "Use sort() method"
      ],
      "metadata": {
        "id": "PRBXvXM53C-6"
      }
    },
    {
      "cell_type": "code",
      "source": [
        "n2 = [2,1,9,-1,2,-6,8,3,5,2,1]\n",
        "n2.sort() #Sorts an array be default in ascending order\n",
        "print(n2)"
      ],
      "metadata": {
        "colab": {
          "base_uri": "https://localhost:8080/"
        },
        "id": "jff3JYEC29qD",
        "outputId": "f9340fdd-9d75-4e9e-df50-17d73f0d442a"
      },
      "execution_count": null,
      "outputs": [
        {
          "output_type": "stream",
          "name": "stdout",
          "text": [
            "[-6, -1, 1, 1, 2, 2, 2, 3, 5, 8, 9]\n"
          ]
        }
      ]
    },
    {
      "cell_type": "code",
      "source": [
        "n2.sort(reverse= True) #To sort in descending order\n",
        "print(n2)"
      ],
      "metadata": {
        "colab": {
          "base_uri": "https://localhost:8080/"
        },
        "id": "dpAJmO0L3IHT",
        "outputId": "dd536e6c-a34c-415f-b110-6af118f07172"
      },
      "execution_count": null,
      "outputs": [
        {
          "output_type": "stream",
          "name": "stdout",
          "text": [
            "[9, 8, 5, 3, 2, 2, 2, 1, 1, -1, -6]\n"
          ]
        }
      ]
    },
    {
      "cell_type": "code",
      "source": [
        "names = [\"Jack\", \"Bob\",\"Alice\",\"Gin\",\"Denver\"]\n",
        "names.sort() #By default strings are sorted based on the first letter of a word\n",
        "print(names)"
      ],
      "metadata": {
        "colab": {
          "base_uri": "https://localhost:8080/"
        },
        "id": "ii6ohm5l3sM_",
        "outputId": "04fb5df9-0b9f-441d-90c3-f128abf2dbf2"
      },
      "execution_count": null,
      "outputs": [
        {
          "output_type": "stream",
          "name": "stdout",
          "text": [
            "['Alice', 'Bob', 'Denver', 'Gin', 'Jack']\n"
          ]
        }
      ]
    },
    {
      "cell_type": "markdown",
      "source": [
        "Custom sort by Length of string"
      ],
      "metadata": {
        "id": "CEpGtY9v4Zr2"
      }
    },
    {
      "cell_type": "code",
      "source": [
        "names.sort(key = lambda x:len(x))\n",
        "print(names)"
      ],
      "metadata": {
        "colab": {
          "base_uri": "https://localhost:8080/"
        },
        "id": "i5JMM_oa4OpD",
        "outputId": "85efb91e-49b4-41b2-ea84-338c2683de87"
      },
      "execution_count": null,
      "outputs": [
        {
          "output_type": "stream",
          "name": "stdout",
          "text": [
            "['Bob', 'Gin', 'Jack', 'Alice', 'Denver']\n"
          ]
        }
      ]
    },
    {
      "cell_type": "markdown",
      "source": [
        "Using Lambda function"
      ],
      "metadata": {
        "id": "xFDPUmAEL8f_"
      }
    },
    {
      "cell_type": "markdown",
      "source": [
        "Lambda Function Syntax:\n",
        "\n",
        "lambda arguments: expression\n"
      ],
      "metadata": {
        "id": "Xi6Wd9s2MhaR"
      }
    },
    {
      "cell_type": "code",
      "source": [
        "a = lambda x : math.sqrt(x) #\n",
        "res = a(5)\n",
        "print(res)"
      ],
      "metadata": {
        "colab": {
          "base_uri": "https://localhost:8080/"
        },
        "id": "MYX3cJynL94Q",
        "outputId": "7cab2324-33ba-44a1-9e73-7995e4c88874"
      },
      "execution_count": null,
      "outputs": [
        {
          "output_type": "stream",
          "name": "stdout",
          "text": [
            "2.23606797749979\n"
          ]
        }
      ]
    },
    {
      "cell_type": "code",
      "source": [
        "a = lambda x,y : x+y\n",
        "print(a(2,3))"
      ],
      "metadata": {
        "colab": {
          "base_uri": "https://localhost:8080/"
        },
        "id": "uvRbeJ7xMfWT",
        "outputId": "d9879b2e-3590-45b0-9115-f04370bb5de0"
      },
      "execution_count": null,
      "outputs": [
        {
          "output_type": "stream",
          "name": "stdout",
          "text": [
            "5\n"
          ]
        }
      ]
    },
    {
      "cell_type": "markdown",
      "source": [
        "List Comprehension"
      ],
      "metadata": {
        "id": "KBgshsg2NuZu"
      }
    },
    {
      "cell_type": "code",
      "source": [
        "abc = [i*i for i in range(1,5)]\n",
        "for j in abc:\n",
        "  print(j)"
      ],
      "metadata": {
        "colab": {
          "base_uri": "https://localhost:8080/"
        },
        "id": "b452PmGBNVVf",
        "outputId": "163995ff-9447-4cfe-d73d-db42899b5882"
      },
      "execution_count": null,
      "outputs": [
        {
          "output_type": "stream",
          "name": "stdout",
          "text": [
            "1\n",
            "4\n",
            "9\n",
            "16\n"
          ]
        }
      ]
    },
    {
      "cell_type": "markdown",
      "source": [
        "To create array of given rows and repeats.\n",
        "\n",
        "Doesn't create unique rows. All rows are the same\n"
      ],
      "metadata": {
        "id": "_wgT4LP1TwHi"
      }
    },
    {
      "cell_type": "code",
      "source": [
        "arr2 = [[1,2,3]*2] *3\n",
        "print(arr2)"
      ],
      "metadata": {
        "colab": {
          "base_uri": "https://localhost:8080/"
        },
        "id": "d-v6KTbiX62x",
        "outputId": "616c4790-c68a-468c-9b83-6adbbae4a0ad"
      },
      "execution_count": null,
      "outputs": [
        {
          "output_type": "stream",
          "name": "stdout",
          "text": [
            "[[1, 2, 3, 1, 2, 3], [1, 2, 3, 1, 2, 3], [1, 2, 3, 1, 2, 3]]\n"
          ]
        }
      ]
    },
    {
      "cell_type": "code",
      "source": [
        "arr = [[0]*4] * 3\n",
        "print(arr)\n",
        "arr[0][1] = 2\n",
        "print(arr)"
      ],
      "metadata": {
        "colab": {
          "base_uri": "https://localhost:8080/"
        },
        "id": "yAYTOVQvOZj7",
        "outputId": "be2eca4b-042d-47fa-93f9-0d9ba3409f9a"
      },
      "execution_count": null,
      "outputs": [
        {
          "output_type": "stream",
          "name": "stdout",
          "text": [
            "[[0, 0, 0, 0], [0, 0, 0, 0], [0, 0, 0, 0]]\n",
            "[[0, 2, 0, 0], [0, 2, 0, 0], [0, 2, 0, 0]]\n"
          ]
        }
      ]
    },
    {
      "cell_type": "markdown",
      "source": [
        "To create an array of given rows and repeats.\n",
        "\n",
        "Creates unique rows"
      ],
      "metadata": {
        "id": "pAnMJYdEVF9d"
      }
    },
    {
      "cell_type": "code",
      "source": [
        "arr1 = [[0]*4 for i in range(3)]\n",
        "print(arr1)\n",
        "arr1[0][2] = 7\n",
        "print(arr1)"
      ],
      "metadata": {
        "colab": {
          "base_uri": "https://localhost:8080/"
        },
        "id": "NDs2TJGcOrTW",
        "outputId": "156745b9-8bfe-4f15-c9ff-742256187221"
      },
      "execution_count": null,
      "outputs": [
        {
          "output_type": "stream",
          "name": "stdout",
          "text": [
            "[[0, 0, 0, 0], [0, 0, 0, 0], [0, 0, 0, 0]]\n",
            "[[0, 0, 7, 0], [0, 0, 0, 0], [0, 0, 0, 0]]\n"
          ]
        }
      ]
    },
    {
      "cell_type": "markdown",
      "source": [
        "Strings"
      ],
      "metadata": {
        "id": "tEjd05SQBGN-"
      }
    },
    {
      "cell_type": "markdown",
      "source": [
        "Declaration"
      ],
      "metadata": {
        "id": "Gce29zazBUF8"
      }
    },
    {
      "cell_type": "code",
      "source": [
        "str1 = \"Hello, World!\"\n",
        "str2 = \"Life is Awesome!!\"\n",
        "print(str1)\n",
        "print(str2)"
      ],
      "metadata": {
        "colab": {
          "base_uri": "https://localhost:8080/"
        },
        "id": "c5UfVrg1XzFt",
        "outputId": "2ed33517-0149-4cde-ed9b-07bda14161ae"
      },
      "execution_count": null,
      "outputs": [
        {
          "output_type": "stream",
          "name": "stdout",
          "text": [
            "Hello, World!\n",
            "Life is Awesome!!\n"
          ]
        }
      ]
    },
    {
      "cell_type": "markdown",
      "source": [
        "Slicing in Strings"
      ],
      "metadata": {
        "id": "Fep6-gYdBWkC"
      }
    },
    {
      "cell_type": "code",
      "source": [
        "print(str1[0:])\n",
        "print(str1[:3])\n",
        "print(str2[1:4])"
      ],
      "metadata": {
        "colab": {
          "base_uri": "https://localhost:8080/"
        },
        "id": "54nve8uLBRMG",
        "outputId": "dc8fd4af-766f-4e8e-8165-34c079e19c05"
      },
      "execution_count": null,
      "outputs": [
        {
          "output_type": "stream",
          "name": "stdout",
          "text": [
            "Hello, World!\n",
            "Hel\n",
            "ife\n"
          ]
        }
      ]
    },
    {
      "cell_type": "markdown",
      "source": [
        "Strings are immutable"
      ],
      "metadata": {
        "id": "OQmgG0qZBnUZ"
      }
    },
    {
      "cell_type": "code",
      "source": [
        "#str[2] = 'J'  #Throws an error if tried to modify\n",
        "               #String object doesn't support item assignment\n",
        "print(str1)"
      ],
      "metadata": {
        "colab": {
          "base_uri": "https://localhost:8080/"
        },
        "id": "bPIyvZtSBo12",
        "outputId": "b7b07bc5-33da-411d-e853-ffd82598b15e"
      },
      "execution_count": null,
      "outputs": [
        {
          "output_type": "stream",
          "name": "stdout",
          "text": [
            "Hello, World!\n"
          ]
        }
      ]
    },
    {
      "cell_type": "markdown",
      "source": [
        "Updating a String"
      ],
      "metadata": {
        "id": "C1YsPu2mCAsV"
      }
    },
    {
      "cell_type": "markdown",
      "source": [
        "Updating a string takes O(n) time as it create a new string altogether"
      ],
      "metadata": {
        "id": "AxZ17Q1GCHJ4"
      }
    },
    {
      "cell_type": "code",
      "source": [
        "str1 += 'How are You?'\n",
        "print(str1)"
      ],
      "metadata": {
        "colab": {
          "base_uri": "https://localhost:8080/"
        },
        "id": "2vYp0FCpCBuu",
        "outputId": "7c8276f2-fa1e-4817-9e51-1a10ffd2323e"
      },
      "execution_count": null,
      "outputs": [
        {
          "output_type": "stream",
          "name": "stdout",
          "text": [
            "Hello, World!How are You?\n"
          ]
        }
      ]
    },
    {
      "cell_type": "markdown",
      "source": [
        "String Conversion"
      ],
      "metadata": {
        "id": "NJ_OVePkCeBG"
      }
    },
    {
      "cell_type": "markdown",
      "source": [
        "Numerical Strings can be converted to Integer"
      ],
      "metadata": {
        "id": "pFPdBqkUCg39"
      }
    },
    {
      "cell_type": "code",
      "source": [
        "print(int('123') + int('234'))"
      ],
      "metadata": {
        "colab": {
          "base_uri": "https://localhost:8080/"
        },
        "id": "i26FiunfCkLq",
        "outputId": "040a7203-fb27-43c1-858a-6cd62d19080d"
      },
      "execution_count": null,
      "outputs": [
        {
          "output_type": "stream",
          "name": "stdout",
          "text": [
            "357\n"
          ]
        }
      ]
    },
    {
      "cell_type": "code",
      "source": [
        "print(int('12') % int('-32'))"
      ],
      "metadata": {
        "colab": {
          "base_uri": "https://localhost:8080/"
        },
        "id": "YUkEErJMCrWV",
        "outputId": "271b429b-a372-489e-d3f8-0c86d175a553"
      },
      "execution_count": null,
      "outputs": [
        {
          "output_type": "stream",
          "name": "stdout",
          "text": [
            "-20\n"
          ]
        }
      ]
    },
    {
      "cell_type": "markdown",
      "source": [
        "To print the ASCII value of a character"
      ],
      "metadata": {
        "id": "hlshiudvIQUo"
      }
    },
    {
      "cell_type": "code",
      "source": [
        "print(ord('a'))"
      ],
      "metadata": {
        "colab": {
          "base_uri": "https://localhost:8080/"
        },
        "id": "nQhOqo06ISk4",
        "outputId": "1009b974-43f2-4a09-fc8e-4cb7fec67c38"
      },
      "execution_count": 39,
      "outputs": [
        {
          "output_type": "stream",
          "name": "stdout",
          "text": [
            "97\n"
          ]
        }
      ]
    },
    {
      "cell_type": "code",
      "source": [
        "print(ord('b'))"
      ],
      "metadata": {
        "colab": {
          "base_uri": "https://localhost:8080/"
        },
        "id": "qoHk-KytIUn4",
        "outputId": "5305e82c-bcd0-4bd4-86cd-ecf24662ce6a"
      },
      "execution_count": 40,
      "outputs": [
        {
          "output_type": "stream",
          "name": "stdout",
          "text": [
            "98\n"
          ]
        }
      ]
    },
    {
      "cell_type": "markdown",
      "source": [
        "Combine a list of strings"
      ],
      "metadata": {
        "id": "H8U5Xp6OJ9Iq"
      }
    },
    {
      "cell_type": "code",
      "source": [
        "strings = [\"ab\",\"cd\",\"ef\"]\n",
        "print(\"\".join(strings))"
      ],
      "metadata": {
        "colab": {
          "base_uri": "https://localhost:8080/"
        },
        "id": "Q1fpk86JJ_u0",
        "outputId": "f04c2502-a1cd-4634-9ff1-192eb9e68e69"
      },
      "execution_count": 47,
      "outputs": [
        {
          "output_type": "stream",
          "name": "stdout",
          "text": [
            "abcdef\n"
          ]
        }
      ]
    },
    {
      "cell_type": "markdown",
      "source": [
        "Queue"
      ],
      "metadata": {
        "id": "QNIe8Zu7aNjs"
      }
    },
    {
      "cell_type": "markdown",
      "source": [
        "Queues in Python are double ended queues by default\n",
        "\n",
        "A double-ended queue (deque) is a generalized data type that allows elements to be added to or removed from either the front or back.\n",
        "\n",
        "It is also often called a head-tail linked list.\n"
      ],
      "metadata": {
        "id": "5McFvHdiaPzN"
      }
    },
    {
      "cell_type": "markdown",
      "source": [
        "To import deque"
      ],
      "metadata": {
        "id": "5AWjfv5Xa95i"
      }
    },
    {
      "cell_type": "code",
      "source": [
        "from collections import deque"
      ],
      "metadata": {
        "id": "qHtWBJeCKeBs"
      },
      "execution_count": 50,
      "outputs": []
    },
    {
      "cell_type": "markdown",
      "source": [
        "Declaring a deque"
      ],
      "metadata": {
        "id": "MXKI38PZa_uK"
      }
    },
    {
      "cell_type": "code",
      "source": [
        "que = deque()"
      ],
      "metadata": {
        "id": "B3IKKB4ibGNJ"
      },
      "execution_count": 51,
      "outputs": []
    },
    {
      "cell_type": "markdown",
      "source": [
        "Append in a queue\n"
      ],
      "metadata": {
        "id": "-4qE97m-bloA"
      }
    },
    {
      "cell_type": "code",
      "source": [
        "que.append(9)\n",
        "que.append(2)\n",
        "que.append(4)\n"
      ],
      "metadata": {
        "id": "Bgxe0xMsbyrb"
      },
      "execution_count": 57,
      "outputs": []
    },
    {
      "cell_type": "code",
      "source": [
        "print(que)"
      ],
      "metadata": {
        "colab": {
          "base_uri": "https://localhost:8080/"
        },
        "id": "7FJGi8gQb6LY",
        "outputId": "c0f3123d-a894-4ff5-a2ec-e732c4a4653e"
      },
      "execution_count": 58,
      "outputs": [
        {
          "output_type": "stream",
          "name": "stdout",
          "text": [
            "deque([1, 2, 3, 1, 2, 3, 1, 2, 3, 1, 2, 3, 9, 2, 4])\n"
          ]
        }
      ]
    },
    {
      "cell_type": "markdown",
      "source": [
        "Pop from the left side of the queue"
      ],
      "metadata": {
        "id": "JfX0vGfwb9hh"
      }
    },
    {
      "cell_type": "code",
      "source": [
        "que.popleft() # Like FIFO, using popleft makes it pop the element from the beginning"
      ],
      "metadata": {
        "colab": {
          "base_uri": "https://localhost:8080/"
        },
        "id": "LjlzSCjWb83r",
        "outputId": "1a13a016-a44d-4c53-c5c4-82506d5e34a4"
      },
      "execution_count": 59,
      "outputs": [
        {
          "output_type": "execute_result",
          "data": {
            "text/plain": [
              "1"
            ]
          },
          "metadata": {},
          "execution_count": 59
        }
      ]
    },
    {
      "cell_type": "markdown",
      "source": [
        "Pop from the right side of the queue"
      ],
      "metadata": {
        "id": "xTpdcG6qgjms"
      }
    },
    {
      "cell_type": "code",
      "source": [
        "que.pop()    # To pop from the end, use pop()"
      ],
      "metadata": {
        "colab": {
          "base_uri": "https://localhost:8080/"
        },
        "id": "oeT4Pyzecu_Z",
        "outputId": "00655fdf-fd00-454e-da02-5ba8992d8640"
      },
      "execution_count": 61,
      "outputs": [
        {
          "output_type": "execute_result",
          "data": {
            "text/plain": [
              "4"
            ]
          },
          "metadata": {},
          "execution_count": 61
        }
      ]
    },
    {
      "cell_type": "markdown",
      "source": [
        "Append in the beginning / left"
      ],
      "metadata": {
        "id": "3hQvSGO-gTxX"
      }
    },
    {
      "cell_type": "code",
      "source": [
        "que.appendleft(5)\n",
        "print(que)"
      ],
      "metadata": {
        "colab": {
          "base_uri": "https://localhost:8080/"
        },
        "id": "pTJryni8gXO_",
        "outputId": "71ebf460-2025-43fd-b662-ad55da0ab5bb"
      },
      "execution_count": 63,
      "outputs": [
        {
          "output_type": "stream",
          "name": "stdout",
          "text": [
            "deque([5, 2, 3, 1, 2, 3, 1, 2, 3, 1, 2, 3, 9, 2, 5])\n"
          ]
        }
      ]
    },
    {
      "cell_type": "markdown",
      "source": [
        "HashSet"
      ],
      "metadata": {
        "id": "w1knKxn_gpzS"
      }
    },
    {
      "cell_type": "markdown",
      "source": [
        "Python doesn't have a built-in data structure called a \"hashset\".\n",
        "\n",
        "However, you can simulate the behavior of a hash set using the built-in \"set\" data type in Python.\n",
        "\n",
        "A set is an unordered collection of unique elements, and it is implemented using a hash table."
      ],
      "metadata": {
        "id": "hof-YYQWg4tM"
      }
    },
    {
      "cell_type": "markdown",
      "source": [
        "Defining a set"
      ],
      "metadata": {
        "id": "39-mXSaYhIED"
      }
    },
    {
      "cell_type": "code",
      "source": [
        "hset = set()\n"
      ],
      "metadata": {
        "id": "rPpQ-Qbsgqnu"
      },
      "execution_count": 65,
      "outputs": []
    },
    {
      "cell_type": "markdown",
      "source": [
        "Add elements into the set"
      ],
      "metadata": {
        "id": "L2jQW4w5hLil"
      }
    },
    {
      "cell_type": "code",
      "source": [
        "hset.add(1)\n",
        "hset.add(4)\n",
        "hset.add(9)\n",
        "hset.add(6)\n",
        "hset.add(1) #Although it allows to add the same element, it stores only once inside the set.\n",
        "#No Duplicates are allowed"
      ],
      "metadata": {
        "id": "FGhcBLwihOZt"
      },
      "execution_count": 75,
      "outputs": []
    },
    {
      "cell_type": "code",
      "source": [
        "print(hset)"
      ],
      "metadata": {
        "colab": {
          "base_uri": "https://localhost:8080/"
        },
        "id": "7EpuEpoohZDj",
        "outputId": "1d8ebd60-1018-492c-9271-c648b80c2a79"
      },
      "execution_count": 76,
      "outputs": [
        {
          "output_type": "stream",
          "name": "stdout",
          "text": [
            "{1, 4, 9, 6}\n"
          ]
        }
      ]
    },
    {
      "cell_type": "markdown",
      "source": [
        "Length of set"
      ],
      "metadata": {
        "id": "nIDGWzQxhuls"
      }
    },
    {
      "cell_type": "code",
      "source": [
        "print(len(hset))"
      ],
      "metadata": {
        "colab": {
          "base_uri": "https://localhost:8080/"
        },
        "id": "Q5F-Ph3zhv3t",
        "outputId": "9a6366be-8769-48c1-fee1-db6e193c8678"
      },
      "execution_count": 77,
      "outputs": [
        {
          "output_type": "stream",
          "name": "stdout",
          "text": [
            "4\n"
          ]
        }
      ]
    },
    {
      "cell_type": "markdown",
      "source": [
        "Check if an element is present in the hashset"
      ],
      "metadata": {
        "id": "Wq5vJE_Yh5Oq"
      }
    },
    {
      "cell_type": "code",
      "source": [
        "print(1 in hset)\n",
        "print(4 in hset)\n",
        "print(6 in hset)\n",
        "print(5 in hset)"
      ],
      "metadata": {
        "colab": {
          "base_uri": "https://localhost:8080/"
        },
        "id": "Z3TB4N8NhzTx",
        "outputId": "b53de03c-e1cd-43db-ee18-bcb43282912b"
      },
      "execution_count": 78,
      "outputs": [
        {
          "output_type": "stream",
          "name": "stdout",
          "text": [
            "True\n",
            "True\n",
            "True\n",
            "False\n"
          ]
        }
      ]
    },
    {
      "cell_type": "markdown",
      "source": [
        "Remove an element from the hashset"
      ],
      "metadata": {
        "id": "T212XVXkh_Vk"
      }
    },
    {
      "cell_type": "code",
      "source": [
        "#hset.remove(6)\n",
        "print(hset)\n",
        "print(6 in hset)"
      ],
      "metadata": {
        "colab": {
          "base_uri": "https://localhost:8080/"
        },
        "id": "0H2CT21zh4rQ",
        "outputId": "2addb733-6c08-483c-e177-9c1171c4ed6a"
      },
      "execution_count": 81,
      "outputs": [
        {
          "output_type": "stream",
          "name": "stdout",
          "text": [
            "{1, 4, 9}\n",
            "False\n"
          ]
        }
      ]
    },
    {
      "cell_type": "markdown",
      "source": [
        "List to Set"
      ],
      "metadata": {
        "id": "GEK3JZ4YkoJz"
      }
    },
    {
      "cell_type": "code",
      "source": [
        "print(set([1,2,3]))"
      ],
      "metadata": {
        "colab": {
          "base_uri": "https://localhost:8080/"
        },
        "id": "x9a4xMf2iI_z",
        "outputId": "fbd8ef9e-2796-4002-8b47-9d30d7f2fe34"
      },
      "execution_count": 83,
      "outputs": [
        {
          "output_type": "stream",
          "name": "stdout",
          "text": [
            "{1, 2, 3}\n"
          ]
        }
      ]
    },
    {
      "cell_type": "markdown",
      "source": [
        "Set Comprehension"
      ],
      "metadata": {
        "id": "8eap-hJ2kzI6"
      }
    },
    {
      "cell_type": "code",
      "source": [
        "jset = {i for i in range(5)}\n",
        "print(jset)"
      ],
      "metadata": {
        "colab": {
          "base_uri": "https://localhost:8080/"
        },
        "id": "P4gSLzRjkw6T",
        "outputId": "3d556088-3f5b-4fb0-c690-2b3061873dec"
      },
      "execution_count": 84,
      "outputs": [
        {
          "output_type": "stream",
          "name": "stdout",
          "text": [
            "{0, 1, 2, 3, 4}\n"
          ]
        }
      ]
    },
    {
      "cell_type": "markdown",
      "source": [
        "HashMap/ Dictionary"
      ],
      "metadata": {
        "id": "U_eSS5sDk9l8"
      }
    },
    {
      "cell_type": "markdown",
      "source": [
        "Declaring a Map"
      ],
      "metadata": {
        "id": "N_ZL9jssla-b"
      }
    },
    {
      "cell_type": "code",
      "source": [
        "map = {}\n",
        "map ['alice'] = 45\n",
        "map['bob'] = 23\n"
      ],
      "metadata": {
        "id": "k8Drb2oUk6yh"
      },
      "execution_count": 86,
      "outputs": []
    },
    {
      "cell_type": "markdown",
      "source": [
        "Printing a Map"
      ],
      "metadata": {
        "id": "QgSJCMgdlZg8"
      }
    },
    {
      "cell_type": "code",
      "source": [
        "print(map)"
      ],
      "metadata": {
        "colab": {
          "base_uri": "https://localhost:8080/"
        },
        "id": "5FLszzfUlR7z",
        "outputId": "45f35fe2-2f1b-491d-e1a5-5dc8b32ec972"
      },
      "execution_count": 87,
      "outputs": [
        {
          "output_type": "stream",
          "name": "stdout",
          "text": [
            "{'alice': 45, 'bob': 23}\n"
          ]
        }
      ]
    },
    {
      "cell_type": "markdown",
      "source": [
        "Length of a map"
      ],
      "metadata": {
        "id": "tD65MTX6mFvs"
      }
    },
    {
      "cell_type": "code",
      "source": [
        "print(len(map))"
      ],
      "metadata": {
        "colab": {
          "base_uri": "https://localhost:8080/"
        },
        "id": "dEkp5j9ulT4T",
        "outputId": "7fdb7cb3-8be7-4743-8d60-fcb0e53ea47b"
      },
      "execution_count": 88,
      "outputs": [
        {
          "output_type": "stream",
          "name": "stdout",
          "text": [
            "2\n"
          ]
        }
      ]
    },
    {
      "cell_type": "code",
      "source": [
        "jvdict = {\n",
        "    \"id\": 1,\n",
        "    \"name\": \"Jaya\",\n",
        "    \"Occupation\": \"Intern\",\n",
        "    \"Need\": \"Full-time\"\n",
        "}\n",
        "\n",
        "print(jvdict)"
      ],
      "metadata": {
        "colab": {
          "base_uri": "https://localhost:8080/"
        },
        "id": "pDJtNBRWmiVt",
        "outputId": "4ab35228-1a23-4923-afa6-0494cbeddad9"
      },
      "execution_count": 90,
      "outputs": [
        {
          "output_type": "stream",
          "name": "stdout",
          "text": [
            "{'id': 1, 'name': 'Jaya', 'Occupation': 'Intern', 'Need': 'Full-time'}\n"
          ]
        }
      ]
    },
    {
      "cell_type": "code",
      "source": [
        "jvdict['name'] = 'Jayavani'\n",
        "print(jvdict)"
      ],
      "metadata": {
        "colab": {
          "base_uri": "https://localhost:8080/"
        },
        "id": "P7TYIP_FmxpV",
        "outputId": "174a1e49-6d34-4337-9aa1-e9df59364f7a"
      },
      "execution_count": 92,
      "outputs": [
        {
          "output_type": "stream",
          "name": "stdout",
          "text": [
            "{'id': 1, 'name': 'Jayavani', 'Occupation': 'Intern', 'Need': 'Full-time'}\n"
          ]
        }
      ]
    },
    {
      "cell_type": "markdown",
      "source": [
        "To check if a key exists in a hashmap"
      ],
      "metadata": {
        "id": "F0ZpENnYnhta"
      }
    },
    {
      "cell_type": "code",
      "source": [
        "print(\"name\" in jvdict)"
      ],
      "metadata": {
        "colab": {
          "base_uri": "https://localhost:8080/"
        },
        "id": "vN5vVIqPnXiV",
        "outputId": "78ca78dc-ced8-4c8c-89f8-bd1f2b329e0c"
      },
      "execution_count": 96,
      "outputs": [
        {
          "output_type": "stream",
          "name": "stdout",
          "text": [
            "True\n"
          ]
        }
      ]
    },
    {
      "cell_type": "markdown",
      "source": [
        "Pop from map"
      ],
      "metadata": {
        "id": "Ezq4Doc9o0dI"
      }
    },
    {
      "cell_type": "code",
      "source": [
        "jvdict.pop(\"id\")"
      ],
      "metadata": {
        "colab": {
          "base_uri": "https://localhost:8080/"
        },
        "id": "91WF0mZQo2Ao",
        "outputId": "2a17ce6c-0bc9-430f-f93c-2bdc7e3fcf4b"
      },
      "execution_count": 97,
      "outputs": [
        {
          "output_type": "execute_result",
          "data": {
            "text/plain": [
              "1"
            ]
          },
          "metadata": {},
          "execution_count": 97
        }
      ]
    },
    {
      "cell_type": "code",
      "source": [
        "print(\"id\" in jvdict)"
      ],
      "metadata": {
        "colab": {
          "base_uri": "https://localhost:8080/"
        },
        "id": "vj1eujtKo7-a",
        "outputId": "5b71853a-d70e-4019-8fae-ee4c1b583165"
      },
      "execution_count": 98,
      "outputs": [
        {
          "output_type": "stream",
          "name": "stdout",
          "text": [
            "False\n"
          ]
        }
      ]
    },
    {
      "cell_type": "code",
      "source": [
        "print(jvdict)"
      ],
      "metadata": {
        "colab": {
          "base_uri": "https://localhost:8080/"
        },
        "id": "PhlCgrixo_B9",
        "outputId": "25866c88-bc92-48eb-cba4-6b0b30e3af9d"
      },
      "execution_count": 99,
      "outputs": [
        {
          "output_type": "stream",
          "name": "stdout",
          "text": [
            "{'name': 'Jayavani', 'Occupation': 'Intern', 'Need': 'Full-time'}\n"
          ]
        }
      ]
    },
    {
      "cell_type": "markdown",
      "source": [
        "Dictionary Comprehension"
      ],
      "metadata": {
        "id": "d8ty2VFbpjDN"
      }
    },
    {
      "cell_type": "code",
      "source": [
        "sdict = {i:2*i for i in range(5)}\n",
        "print(sdict)"
      ],
      "metadata": {
        "colab": {
          "base_uri": "https://localhost:8080/"
        },
        "id": "WEM7vaRjpASe",
        "outputId": "815a3cd0-5754-4efe-9cfd-11b1fe18dbbf"
      },
      "execution_count": 101,
      "outputs": [
        {
          "output_type": "stream",
          "name": "stdout",
          "text": [
            "{0: 0, 1: 2, 2: 4, 3: 6, 4: 8}\n"
          ]
        }
      ]
    },
    {
      "cell_type": "markdown",
      "source": [
        "Looping through Maps"
      ],
      "metadata": {
        "id": "n7gnKEGpp2M1"
      }
    },
    {
      "cell_type": "code",
      "source": [
        "m1 = {\"ken\":50, \"ram\": 80}\n",
        "for i in m1:\n",
        "  print(i,m1[i]) #Prints both the key and value"
      ],
      "metadata": {
        "colab": {
          "base_uri": "https://localhost:8080/"
        },
        "id": "EPblq9cpp13m",
        "outputId": "b0f559c2-5c88-4a2f-dea9-85693eb32e8a"
      },
      "execution_count": 104,
      "outputs": [
        {
          "output_type": "stream",
          "name": "stdout",
          "text": [
            "ken 50\n",
            "ram 80\n"
          ]
        }
      ]
    },
    {
      "cell_type": "code",
      "source": [
        "for i,j in m1.items():\n",
        "  print(i,j)"
      ],
      "metadata": {
        "colab": {
          "base_uri": "https://localhost:8080/"
        },
        "id": "nY06UQrOyZy4",
        "outputId": "7bc92f57-5feb-4fa3-e679-6676197fd1f2"
      },
      "execution_count": 109,
      "outputs": [
        {
          "output_type": "stream",
          "name": "stdout",
          "text": [
            "ken 50\n",
            "ram 80\n"
          ]
        }
      ]
    },
    {
      "cell_type": "markdown",
      "source": [
        "To print only the values of Map"
      ],
      "metadata": {
        "id": "ksM6uG2Jv-3A"
      }
    },
    {
      "cell_type": "code",
      "source": [
        "for i in m1.values():\n",
        "  print(i)"
      ],
      "metadata": {
        "colab": {
          "base_uri": "https://localhost:8080/"
        },
        "id": "xiltQqG8pxdC",
        "outputId": "1368393f-f9e2-4387-d1c9-9267cdb5f967"
      },
      "execution_count": 106,
      "outputs": [
        {
          "output_type": "stream",
          "name": "stdout",
          "text": [
            "50\n",
            "80\n"
          ]
        }
      ]
    },
    {
      "cell_type": "code",
      "source": [
        "print(m1['ken'])"
      ],
      "metadata": {
        "colab": {
          "base_uri": "https://localhost:8080/"
        },
        "id": "MTvQge_rv0XD",
        "outputId": "a690040d-d57b-44de-8520-4f46b7a74a7d"
      },
      "execution_count": 108,
      "outputs": [
        {
          "output_type": "stream",
          "name": "stdout",
          "text": [
            "50\n"
          ]
        }
      ]
    },
    {
      "cell_type": "markdown",
      "source": [
        "Tuples"
      ],
      "metadata": {
        "id": "vIc6QtU1yk4A"
      }
    },
    {
      "cell_type": "markdown",
      "source": [
        "Tuples are like Arrays but are immutable"
      ],
      "metadata": {
        "id": "HBSdD1LMylzF"
      }
    },
    {
      "cell_type": "code",
      "source": [
        "tup = (1,2,3)\n",
        "print(tup)"
      ],
      "metadata": {
        "colab": {
          "base_uri": "https://localhost:8080/"
        },
        "id": "m3YPEoBvyo5z",
        "outputId": "d0f7a24d-8e76-45fc-8c66-fbf568c8997e"
      },
      "execution_count": 111,
      "outputs": [
        {
          "output_type": "stream",
          "name": "stdout",
          "text": [
            "(1, 2, 3)\n"
          ]
        }
      ]
    },
    {
      "cell_type": "markdown",
      "source": [
        "Indexing"
      ],
      "metadata": {
        "id": "RDbPZ12qy7Kn"
      }
    },
    {
      "cell_type": "code",
      "source": [
        "print(tup[0])\n",
        "print(tup[-1])\n",
        "print(tup[2])"
      ],
      "metadata": {
        "colab": {
          "base_uri": "https://localhost:8080/"
        },
        "id": "xSmDqaY_y8RK",
        "outputId": "85524673-12fb-4fc0-f4c0-079cdb2657d8"
      },
      "execution_count": 114,
      "outputs": [
        {
          "output_type": "stream",
          "name": "stdout",
          "text": [
            "1\n",
            "3\n",
            "3\n"
          ]
        }
      ]
    },
    {
      "cell_type": "markdown",
      "source": [
        "Tuples are Immutable(Cannot be modified)"
      ],
      "metadata": {
        "id": "7zkb7WfszKgF"
      }
    },
    {
      "cell_type": "code",
      "source": [
        "#tup[0] = 9 #'tuple' object does not support item assignment"
      ],
      "metadata": {
        "id": "A0F8XPtizBaz"
      },
      "execution_count": 116,
      "outputs": []
    },
    {
      "cell_type": "markdown",
      "source": [
        "Tuples can be used as a key for hashmap/set"
      ],
      "metadata": {
        "id": "fCmE6-L-zfji"
      }
    },
    {
      "cell_type": "code",
      "source": [
        "m2 = {(1,2):3}\n",
        "print(m2[1,2])"
      ],
      "metadata": {
        "colab": {
          "base_uri": "https://localhost:8080/"
        },
        "id": "5Q5LTnVLzJqK",
        "outputId": "306b2912-1a8e-42c1-f531-294bf97b7321"
      },
      "execution_count": 117,
      "outputs": [
        {
          "output_type": "stream",
          "name": "stdout",
          "text": [
            "3\n"
          ]
        }
      ]
    },
    {
      "cell_type": "code",
      "source": [
        "m3 = set()\n",
        "m3.add((1,2))\n",
        "print(m3)"
      ],
      "metadata": {
        "colab": {
          "base_uri": "https://localhost:8080/"
        },
        "id": "8b_TgYVm47h4",
        "outputId": "f232962a-3b65-4735-d937-e341ae173622"
      },
      "execution_count": 118,
      "outputs": [
        {
          "output_type": "stream",
          "name": "stdout",
          "text": [
            "{(1, 2)}\n"
          ]
        }
      ]
    },
    {
      "cell_type": "code",
      "source": [
        "print((1,2) in m3)"
      ],
      "metadata": {
        "colab": {
          "base_uri": "https://localhost:8080/"
        },
        "id": "-GtxD6uFIwF0",
        "outputId": "22181571-b07c-4905-d4ba-62b3161994ea"
      },
      "execution_count": 119,
      "outputs": [
        {
          "output_type": "stream",
          "name": "stdout",
          "text": [
            "True\n"
          ]
        }
      ]
    },
    {
      "cell_type": "markdown",
      "source": [
        "Lists can't be keys"
      ],
      "metadata": {
        "id": "do9znK3UJsLo"
      }
    },
    {
      "cell_type": "code",
      "source": [
        "#m2[[1,2]] = 5\n",
        "print(m2)"
      ],
      "metadata": {
        "colab": {
          "base_uri": "https://localhost:8080/"
        },
        "id": "4tz-Ci7LIzc6",
        "outputId": "b2b5ec59-1ec5-4d8f-d24d-539a796c08f5"
      },
      "execution_count": 123,
      "outputs": [
        {
          "output_type": "stream",
          "name": "stdout",
          "text": [
            "{(1, 2): 5}\n"
          ]
        }
      ]
    },
    {
      "cell_type": "markdown",
      "source": [
        "Heap"
      ],
      "metadata": {
        "id": "or67Dwt8UrxS"
      }
    },
    {
      "cell_type": "markdown",
      "source": [
        "Importing"
      ],
      "metadata": {
        "id": "ieK0wyy9VAob"
      }
    },
    {
      "cell_type": "code",
      "source": [
        "import heapq"
      ],
      "metadata": {
        "id": "yUxt0GVtJve3"
      },
      "execution_count": 124,
      "outputs": []
    },
    {
      "cell_type": "markdown",
      "source": [
        "Heaps are Arrays under the hood"
      ],
      "metadata": {
        "id": "s4QCPfB1U6mw"
      }
    },
    {
      "cell_type": "code",
      "source": [
        "minHeap = []"
      ],
      "metadata": {
        "id": "lWCHHRYYU2Gu"
      },
      "execution_count": 126,
      "outputs": []
    },
    {
      "cell_type": "code",
      "source": [
        "heapq.heappush(minHeap,3)"
      ],
      "metadata": {
        "id": "r6oO5b-AVErD"
      },
      "execution_count": 127,
      "outputs": []
    },
    {
      "cell_type": "code",
      "source": [
        "heapq.heappush(minHeap,2)"
      ],
      "metadata": {
        "id": "mz-igLJmVNib"
      },
      "execution_count": 128,
      "outputs": []
    },
    {
      "cell_type": "code",
      "source": [
        "heapq.heappush(minHeap,7)"
      ],
      "metadata": {
        "id": "A9ZBhpcHVPIC"
      },
      "execution_count": 129,
      "outputs": []
    },
    {
      "cell_type": "code",
      "source": [
        "print(minHeap)"
      ],
      "metadata": {
        "colab": {
          "base_uri": "https://localhost:8080/"
        },
        "id": "1f3iOsJzVTtR",
        "outputId": "84c2e452-60b2-42c2-b52a-41092103a60e"
      },
      "execution_count": 130,
      "outputs": [
        {
          "output_type": "stream",
          "name": "stdout",
          "text": [
            "[2, 3, 7]\n"
          ]
        }
      ]
    },
    {
      "cell_type": "markdown",
      "source": [
        "Minumum is always at index '0' for minHeap"
      ],
      "metadata": {
        "id": "VR_YzId4aVqe"
      }
    },
    {
      "cell_type": "code",
      "source": [
        "print(minHeap[0])"
      ],
      "metadata": {
        "colab": {
          "base_uri": "https://localhost:8080/"
        },
        "id": "H383LRvsaYwY",
        "outputId": "469badf2-4ece-4f73-883e-f089e4a70ef5"
      },
      "execution_count": 131,
      "outputs": [
        {
          "output_type": "stream",
          "name": "stdout",
          "text": [
            "2\n"
          ]
        }
      ]
    },
    {
      "cell_type": "markdown",
      "source": [
        "Loop through the Heap"
      ],
      "metadata": {
        "id": "ZEmVsQWsal1V"
      }
    },
    {
      "cell_type": "code",
      "source": [
        "while(len(minHeap)):\n",
        "  print(heapq.heappop(minHeap))"
      ],
      "metadata": {
        "colab": {
          "base_uri": "https://localhost:8080/"
        },
        "id": "bTksW6aVad8b",
        "outputId": "d968b84d-dcef-4388-bd69-86fb438eb328"
      },
      "execution_count": 132,
      "outputs": [
        {
          "output_type": "stream",
          "name": "stdout",
          "text": [
            "2\n",
            "3\n",
            "7\n"
          ]
        }
      ]
    },
    {
      "cell_type": "markdown",
      "source": [
        "Functions"
      ],
      "metadata": {
        "id": "DMrPxzFha8Mm"
      }
    },
    {
      "cell_type": "code",
      "source": [
        "def fun(n,m):\n",
        "  return n*m"
      ],
      "metadata": {
        "id": "QdC6XgxIa9FG"
      },
      "execution_count": 133,
      "outputs": []
    },
    {
      "cell_type": "code",
      "source": [
        "ans = fun(2,3)\n",
        "print(ans)"
      ],
      "metadata": {
        "colab": {
          "base_uri": "https://localhost:8080/"
        },
        "id": "3-T-C_7IbEZ2",
        "outputId": "35dd65ca-a9cf-4944-99c1-3150b374c745"
      },
      "execution_count": 135,
      "outputs": [
        {
          "output_type": "stream",
          "name": "stdout",
          "text": [
            "6\n"
          ]
        }
      ]
    },
    {
      "cell_type": "markdown",
      "source": [
        "Nested functions have access to outer variables"
      ],
      "metadata": {
        "id": "xp4tC2AQnKyo"
      }
    },
    {
      "cell_type": "code",
      "source": [
        "def outer(a,b):\n",
        "  c = \"c\"\n",
        "\n",
        "  def inner():\n",
        "    return a+b+c\n",
        "  return inner()\n",
        "\n",
        "print(outer(\"a\",\"b\"))"
      ],
      "metadata": {
        "colab": {
          "base_uri": "https://localhost:8080/"
        },
        "id": "bELFlzkjbI07",
        "outputId": "2d6019e4-b929-450f-cbc0-a52e34115957"
      },
      "execution_count": 136,
      "outputs": [
        {
          "output_type": "stream",
          "name": "stdout",
          "text": [
            "abc\n"
          ]
        }
      ]
    },
    {
      "cell_type": "markdown",
      "source": [
        "Class"
      ],
      "metadata": {
        "id": "cPiIvz28pKu-"
      }
    },
    {
      "cell_type": "code",
      "source": [
        "class myClass:\n",
        "  #constructor\n",
        "  def __init__(self, nums):\n",
        "    #create member varibales\n",
        "    self.nums = nums\n",
        "    self.size = len(nums)\n",
        "\n",
        "  def getLength(self):\n",
        "    return self.size\n",
        "\n",
        "  def getDoubLeng(self):\n",
        "    return 2 * self.getLength()\n",
        "\n",
        "call = myClass([1,2,3])\n",
        "ans = call.getLength()\n",
        "ans2 = call.getDoubLeng()\n",
        "\n",
        "print(ans)\n",
        "print(ans2)"
      ],
      "metadata": {
        "colab": {
          "base_uri": "https://localhost:8080/"
        },
        "id": "ciCQfPBZpLz2",
        "outputId": "4484b04e-10fd-4c91-a1cd-4515217049b5"
      },
      "execution_count": 139,
      "outputs": [
        {
          "output_type": "stream",
          "name": "stdout",
          "text": [
            "3\n",
            "6\n"
          ]
        }
      ]
    },
    {
      "cell_type": "markdown",
      "source": [
        "References:\n",
        "\n",
        "https://www.youtube.com/watch?v=0K_eZGS5NsU"
      ],
      "metadata": {
        "id": "JqLzk1bdsX9z"
      }
    }
  ]
}